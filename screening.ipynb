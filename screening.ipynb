{
 "cells": [
  {
   "cell_type": "code",
   "execution_count": 1,
   "id": "6845f22e-0d17-400b-9a0e-81460ffa9e9b",
   "metadata": {},
   "outputs": [
    {
     "name": "stderr",
     "output_type": "stream",
     "text": [
      "C:\\Users\\sh_su\\AppData\\Local\\Temp\\ipykernel_24392\\4080736814.py:1: DeprecationWarning: \n",
      "Pyarrow will become a required dependency of pandas in the next major release of pandas (pandas 3.0),\n",
      "(to allow more performant data types, such as the Arrow string type, and better interoperability with other libraries)\n",
      "but was not found to be installed on your system.\n",
      "If this would cause problems for you,\n",
      "please provide us feedback at https://github.com/pandas-dev/pandas/issues/54466\n",
      "        \n",
      "  import pandas as pd\n"
     ]
    }
   ],
   "source": [
    "import pandas as pd"
   ]
  },
  {
   "cell_type": "code",
   "execution_count": 3,
   "id": "bd9357d5-25e9-4203-97fd-4900f703ffab",
   "metadata": {},
   "outputs": [],
   "source": [
    "df_pdbbind = pd.read_csv('predicted_set.csv')\n",
    "df_skempi = pd.read_csv('predicted_skempi.csv')"
   ]
  },
  {
   "cell_type": "code",
   "execution_count": 9,
   "id": "dcf92522-b826-4b6f-a004-c70dcaf31242",
   "metadata": {
    "scrolled": true
   },
   "outputs": [],
   "source": [
    "columns_to_drop = ['target_encoding_1', 'target_encoding_2', 'combined', 'out']\n",
    "\n",
    "df_pdb_sorted = df_pdb_sorted.drop(columns=columns_to_drop)"
   ]
  },
  {
   "cell_type": "code",
   "execution_count": 5,
   "id": "ed397f1d-3c11-4bcb-9887-db4e1700a1d8",
   "metadata": {},
   "outputs": [],
   "source": [
    "df_pdb_sorted = df_pdbbind.sort_values(by='predicted_value', ascending=True)"
   ]
  },
  {
   "cell_type": "code",
   "execution_count": 12,
   "id": "8260f782-cdc8-4a0d-813e-7e72cb47b11b",
   "metadata": {},
   "outputs": [],
   "source": [
    "df_pdb_s2 = df_pdb_sorted[df_pdb_sorted['predicted_value'] == -8.08991]"
   ]
  },
  {
   "cell_type": "code",
   "execution_count": 55,
   "id": "aef1cba8-62a7-4373-b14a-e29e2599a34a",
   "metadata": {
    "scrolled": true
   },
   "outputs": [],
   "source": [
    "df_pdb_s2.to_csv('pdb_sorted.csv', index=False)"
   ]
  },
  {
   "cell_type": "code",
   "execution_count": 18,
   "id": "9cdec7a5-e956-41ff-8e64-7730c6de2498",
   "metadata": {},
   "outputs": [],
   "source": [
    "df_skmp_sorted = df_skempi.sort_values(by='Predicted', ascending=False)"
   ]
  },
  {
   "cell_type": "code",
   "execution_count": 26,
   "id": "42ff421b-ca6d-493e-a31c-b54bd646bef0",
   "metadata": {
    "scrolled": true
   },
   "outputs": [],
   "source": [
    "df_skmp_sorted.reset_index(inplace=True)"
   ]
  },
  {
   "cell_type": "code",
   "execution_count": 13,
   "id": "5e8c01bd-599b-41e1-9516-3db6c845f62e",
   "metadata": {},
   "outputs": [],
   "source": [
    "import matplotlib.pyplot as plt"
   ]
  },
  {
   "cell_type": "code",
   "execution_count": 30,
   "id": "3399bd72-ce9b-453f-b29b-5c830f4ec473",
   "metadata": {
    "scrolled": true
   },
   "outputs": [
    {
     "data": {
      "image/png": "[encoded data removed]",
      "text/plain": [
       "<Figure size 640x480 with 1 Axes>"
      ]
     },
     "metadata": {},
     "output_type": "display_data"
    }
   ],
   "source": [
    "plt.plot(df_skmp_sorted.head(25).index, df_skmp_sorted['Predicted'].head(25), marker='o', linestyle='-', color='b', label='Sales')\n",
    "\n",
    "plt.show()"
   ]
  },
  {
   "cell_type": "code",
   "execution_count": 33,
   "id": "c221a6b4-8f66-47f8-8564-9942ea1244be",
   "metadata": {},
   "outputs": [],
   "source": [
    "df_skmp_s2 = df_skmp_sorted.head(21)"
   ]
  },
  {
   "cell_type": "code",
   "execution_count": 54,
   "id": "4513a9d5-d239-4ab1-83a1-34e71533fcbd",
   "metadata": {
    "scrolled": true
   },
   "outputs": [],
   "source": [
    "df_skmp_s2.to_csv('skempi_sorted.cav', index=False)"
   ]
  },
  {
   "cell_type": "code",
   "execution_count": 35,
   "id": "2b4378ed-b550-427d-84ef-a815e3752597",
   "metadata": {},
   "outputs": [
    {
     "data": {
      "text/plain": [
       "0.1120244413614273"
      ]
     },
     "execution_count": 35,
     "metadata": {},
     "output_type": "execute_result"
    }
   ],
   "source": [
    "df_skmp_sorted['Predicted'][21]"
   ]
  },
  {
   "cell_type": "code",
   "execution_count": 48,
   "id": "2391026a-313e-4969-8f85-995f273b6458",
   "metadata": {},
   "outputs": [],
   "source": [
    "match = df_skmp_sorted['Mutant']"
   ]
  },
  {
   "cell_type": "code",
   "execution_count": 53,
   "id": "14f4ec93-f798-4dd7-8d8a-82c919da725d",
   "metadata": {},
   "outputs": [
    {
     "name": "stdout",
     "output_type": "stream",
     "text": [
      "0\n"
     ]
    }
   ],
   "source": [
    "count = 0\n",
    "for i in df_pdb_s2['Target Sequence 2']:\n",
    "    if i in match:\n",
    "        count += 1\n",
    "        print(i)\n",
    "print(count)"
   ]
  },
  {
   "cell_type": "code",
   "execution_count": 56,
   "id": "f5e9641b-7295-4010-a14e-d609cf4800f3",
   "metadata": {
    "scrolled": true
   },
   "outputs": [
    {
     "data": {
      "text/plain": [
       "0     LFDTGSSYYYWTIDTGTNFFI\n",
       "1     LFDTGSSNYYWTIDTGTNFFI\n",
       "2     LFDTGSSVYYWTIDTGTNFFI\n",
       "3     LFDTGSSCYYWTIDTGTNFFI\n",
       "4     LFDTGSSKNYWTIDTGTNFFI\n",
       "5     LFDTGSSCNYWTIDTGTNFFI\n",
       "6     LFDTGSSKYYWTIDTGTNFFI\n",
       "7     LFDTGSSYNYWTIDTGTNFFI\n",
       "8     LFDTGSSYYCWTIDTGTNFFI\n",
       "9     LFDTGSSDYYWTIDTGTNFFI\n",
       "10    LFDTGSSYNYVTIDTGTNFFI\n",
       "11    LFDTGSSYCYWTIDTGTNFFI\n",
       "12    LFDTGSSYYYVTIDTGTNFFI\n",
       "13    LFDTGSSCNYVTIDTGTNFFI\n",
       "14    LFDTGSSCCYWTIDTGTNFFI\n",
       "15    LFDTGSSMYYWTIDTGTNFFI\n",
       "16    LFDTGSSNYCWTIDTGTNFFI\n",
       "17    LFDTGSSWYYWTIDTGTNFFI\n",
       "18    LFDTGSSKNYVTIDTGTNFFI\n",
       "19    LFDTGSSYYWWTIDTGTNFFI\n",
       "20    LFDTGSSYVYVTIDTGTNFFI\n",
       "Name: Mutant, dtype: object"
      ]
     },
     "execution_count": 56,
     "metadata": {},
     "output_type": "execute_result"
    }
   ],
   "source": [
    "df_skmp_s2['Mutant']"
   ]
  },
  {
   "cell_type": "code",
   "execution_count": 57,
   "id": "91a320ff-9c41-4bf3-a5df-87940ff21e42",
   "metadata": {},
   "outputs": [],
   "source": [
    "def replace_amino_acid(protein_sequence, position, new_amino_acid):\n",
    "    if position < 1 or position > len(protein_sequence):\n",
    "        print(\"Invalid position. Position should be between 1 and the length of the protein sequence.\")\n",
    "        return protein_sequence\n",
    "\n",
    "    # Convert position to 0-based index\n",
    "    position -= 1\n",
    "\n",
    "    # Replace the amino acid at the specified position\n",
    "    protein_list = list(protein_sequence)\n",
    "    protein_list[position] = new_amino_acid\n",
    "    updated_protein_sequence = ''.join(protein_list)\n",
    "\n",
    "    return updated_protein_sequence\n"
   ]
  },
  {
   "cell_type": "code",
   "execution_count": 67,
   "id": "29bb9bf6-6994-4440-b831-90a52a64d816",
   "metadata": {
    "scrolled": true
   },
   "outputs": [
    {
     "data": {
      "text/plain": [
       "546       LFDTGSSADESTIDTGTNFFI\n",
       "33665     LFDTGSSGEDSTIDTGTNFFI\n",
       "33666     LFDTGSSGEDTTIDTGTNFFI\n",
       "33669     LFDTGSSGEDYTIDTGTNFFI\n",
       "116291    LFDTGSSVEDMTIDTGTNFFI\n",
       "116296    LFDTGSSVEDSTIDTGTNFFI\n",
       "116297    LFDTGSSVEDTTIDTGTNFFI\n",
       "829       LFDTGSSAEEMTIDTGTNFFI\n",
       "116032    LFDTGSSVDEYTIDTGTNFFI\n",
       "116300    LFDTGSSVEDYTIDTGTNFFI\n",
       "33680     LFDTGSSGEEMTIDTGTNFFI\n",
       "835       LFDTGSSAEETTIDTGTNFFI\n",
       "116311    LFDTGSSVEEMTIDTGTNFFI\n",
       "116316    LFDTGSSVEESTIDTGTNFFI\n",
       "116317    LFDTGSSVEETTIDTGTNFFI\n",
       "33685     LFDTGSSGEESTIDTGTNFFI\n",
       "33686     LFDTGSSGEETTIDTGTNFFI\n",
       "834       LFDTGSSAEESTIDTGTNFFI\n",
       "116320    LFDTGSSVEEYTIDTGTNFFI\n",
       "818       LFDTGSSAEDYTIDTGTNFFI\n",
       "116028    LFDTGSSVDESTIDTGTNFFI\n",
       "33372     LFDTGSSGDDMTIDTGTNFFI\n",
       "33377     LFDTGSSGDDSTIDTGTNFFI\n",
       "33378     LFDTGSSGDDTTIDTGTNFFI\n",
       "33381     LFDTGSSGDDYTIDTGTNFFI\n",
       "809       LFDTGSSAEDMTIDTGTNFFI\n",
       "814       LFDTGSSAEDSTIDTGTNFFI\n",
       "33392     LFDTGSSGDEMTIDTGTNFFI\n",
       "116029    LFDTGSSVDETTIDTGTNFFI\n",
       "116003    LFDTGSSVDDMTIDTGTNFFI\n",
       "116009    LFDTGSSVDDTTIDTGTNFFI\n",
       "116012    LFDTGSSVDDYTIDTGTNFFI\n",
       "33397     LFDTGSSGDESTIDTGTNFFI\n",
       "33398     LFDTGSSGDETTIDTGTNFFI\n",
       "815       LFDTGSSAEDTTIDTGTNFFI\n",
       "33401     LFDTGSSGDEYTIDTGTNFFI\n",
       "116023    LFDTGSSVDEMTIDTGTNFFI\n",
       "116008    LFDTGSSVDDSTIDTGTNFFI\n",
       "33689     LFDTGSSGEEYTIDTGTNFFI\n",
       "33660     LFDTGSSGEDMTIDTGTNFFI\n",
       "526       LFDTGSSADDSTIDTGTNFFI\n",
       "541       LFDTGSSADEMTIDTGTNFFI\n",
       "838       LFDTGSSAEEYTIDTGTNFFI\n",
       "530       LFDTGSSADDYTIDTGTNFFI\n",
       "547       LFDTGSSADETTIDTGTNFFI\n",
       "521       LFDTGSSADDMTIDTGTNFFI\n",
       "550       LFDTGSSADEYTIDTGTNFFI\n",
       "527       LFDTGSSADDTTIDTGTNFFI\n",
       "Name: Target Sequence 2, dtype: object"
      ]
     },
     "execution_count": 67,
     "metadata": {},
     "output_type": "execute_result"
    }
   ],
   "source": [
    "df_pdb_s2['Target Sequence 2']"
   ]
  },
  {
   "cell_type": "code",
   "execution_count": 63,
   "id": "29f57dab-dd7b-45c1-aafe-fc709061adde",
   "metadata": {},
   "outputs": [],
   "source": [
    "mut_res = ['A', 'C', 'D', 'E', 'F', 'G', 'H', 'I', 'K', 'L', 'M', 'N', 'P', 'Q', 'R', 'S', 'T', 'V', 'W', 'Y']"
   ]
  },
  {
   "cell_type": "code",
   "execution_count": 64,
   "id": "9b791f79-70f8-4918-b206-2b6c584ce326",
   "metadata": {},
   "outputs": [],
   "source": [
    "pos = [2, 13, 20]"
   ]
  },
  {
   "cell_type": "code",
   "execution_count": 70,
   "id": "7df2712e-3001-473e-8b65-209b5d3b9be7",
   "metadata": {},
   "outputs": [],
   "source": [
    "#var = []\n",
    "for se in df_skmp_s2['Mutant']:\n",
    "    for i in pos:\n",
    "        for j in mut_res:\n",
    "            v = replace_amino_acid(se, int(i), j)\n",
    "            var.append(v)"
   ]
  },
  {
   "cell_type": "code",
   "execution_count": 71,
   "id": "09790f93-46dc-418a-86cc-15a0ee22a99c",
   "metadata": {},
   "outputs": [
    {
     "data": {
      "text/plain": [
       "4140"
      ]
     },
     "execution_count": 71,
     "metadata": {},
     "output_type": "execute_result"
    }
   ],
   "source": [
    "len(var)"
   ]
  },
  {
   "cell_type": "code",
   "execution_count": 73,
   "id": "ae72140a-0f9c-4540-8170-a59ada477c9b",
   "metadata": {},
   "outputs": [],
   "source": [
    "import csv\n",
    "\n",
    "with open('mut_set2.csv', 'w', newline='') as file:\n",
    "    writer = csv.writer(file)\n",
    "    for item in var:\n",
    "        writer.writerow([item])"
   ]
  },
  {
   "cell_type": "code",
   "execution_count": 8,
   "id": "43dd5f0f-007f-4330-b3a5-1b1d4fc8adb3",
   "metadata": {},
   "outputs": [],
   "source": [
    "df_pdbbind2 = pd.read_csv('predicted_pdb_mut2.csv')\n",
    "df_skempi2 = pd.read_csv('predicted_skmp_mut2.csv')"
   ]
  },
  {
   "cell_type": "code",
   "execution_count": 9,
   "id": "fd6d022e-d589-4781-bbcf-adedb4df33d2",
   "metadata": {
    "scrolled": true
   },
   "outputs": [
    {
     "data": {
      "text/html": [
       "<div>\n",
       "<style scoped>\n",
       "    .dataframe tbody tr th:only-of-type {\n",
       "        vertical-align: middle;\n",
       "    }\n",
       "\n",
       "    .dataframe tbody tr th {\n",
       "        vertical-align: top;\n",
       "    }\n",
       "\n",
       "    .dataframe thead th {\n",
       "        text-align: right;\n",
       "    }\n",
       "</style>\n",
       "<table border=\"1\" class=\"dataframe\">\n",
       "  <thead>\n",
       "    <tr style=\"text-align: right;\">\n",
       "      <th></th>\n",
       "      <th>Mutant</th>\n",
       "      <th>Rec</th>\n",
       "      <th>Label</th>\n",
       "      <th>Predicted</th>\n",
       "    </tr>\n",
       "  </thead>\n",
       "  <tbody>\n",
       "    <tr>\n",
       "      <th>0</th>\n",
       "      <td>LADTGSSADESTIDTGTNFFI</td>\n",
       "      <td>RHPHPHLSFMAIPPKK</td>\n",
       "      <td>1</td>\n",
       "      <td>0.018829</td>\n",
       "    </tr>\n",
       "    <tr>\n",
       "      <th>1</th>\n",
       "      <td>LCDTGSSADESTIDTGTNFFI</td>\n",
       "      <td>RHPHPHLSFMAIPPKK</td>\n",
       "      <td>1</td>\n",
       "      <td>0.018692</td>\n",
       "    </tr>\n",
       "    <tr>\n",
       "      <th>2</th>\n",
       "      <td>LDDTGSSADESTIDTGTNFFI</td>\n",
       "      <td>RHPHPHLSFMAIPPKK</td>\n",
       "      <td>1</td>\n",
       "      <td>0.019042</td>\n",
       "    </tr>\n",
       "    <tr>\n",
       "      <th>3</th>\n",
       "      <td>LEDTGSSADESTIDTGTNFFI</td>\n",
       "      <td>RHPHPHLSFMAIPPKK</td>\n",
       "      <td>1</td>\n",
       "      <td>0.019030</td>\n",
       "    </tr>\n",
       "    <tr>\n",
       "      <th>4</th>\n",
       "      <td>LFDTGSSADESTIDTGTNFFI</td>\n",
       "      <td>RHPHPHLSFMAIPPKK</td>\n",
       "      <td>1</td>\n",
       "      <td>0.019118</td>\n",
       "    </tr>\n",
       "    <tr>\n",
       "      <th>...</th>\n",
       "      <td>...</td>\n",
       "      <td>...</td>\n",
       "      <td>...</td>\n",
       "      <td>...</td>\n",
       "    </tr>\n",
       "    <tr>\n",
       "      <th>4135</th>\n",
       "      <td>LFDTGSSYVYVTIDTGTNFSI</td>\n",
       "      <td>RHPHPHLSFMAIPPKK</td>\n",
       "      <td>1</td>\n",
       "      <td>0.131464</td>\n",
       "    </tr>\n",
       "    <tr>\n",
       "      <th>4136</th>\n",
       "      <td>LFDTGSSYVYVTIDTGTNFTI</td>\n",
       "      <td>RHPHPHLSFMAIPPKK</td>\n",
       "      <td>1</td>\n",
       "      <td>0.117451</td>\n",
       "    </tr>\n",
       "    <tr>\n",
       "      <th>4137</th>\n",
       "      <td>LFDTGSSYVYVTIDTGTNFVI</td>\n",
       "      <td>RHPHPHLSFMAIPPKK</td>\n",
       "      <td>1</td>\n",
       "      <td>0.162600</td>\n",
       "    </tr>\n",
       "    <tr>\n",
       "      <th>4138</th>\n",
       "      <td>LFDTGSSYVYVTIDTGTNFWI</td>\n",
       "      <td>RHPHPHLSFMAIPPKK</td>\n",
       "      <td>1</td>\n",
       "      <td>0.159666</td>\n",
       "    </tr>\n",
       "    <tr>\n",
       "      <th>4139</th>\n",
       "      <td>LFDTGSSYVYVTIDTGTNFYI</td>\n",
       "      <td>RHPHPHLSFMAIPPKK</td>\n",
       "      <td>1</td>\n",
       "      <td>0.155944</td>\n",
       "    </tr>\n",
       "  </tbody>\n",
       "</table>\n",
       "<p>4140 rows × 4 columns</p>\n",
       "</div>"
      ],
      "text/plain": [
       "                     Mutant               Rec  Label  Predicted\n",
       "0     LADTGSSADESTIDTGTNFFI  RHPHPHLSFMAIPPKK      1   0.018829\n",
       "1     LCDTGSSADESTIDTGTNFFI  RHPHPHLSFMAIPPKK      1   0.018692\n",
       "2     LDDTGSSADESTIDTGTNFFI  RHPHPHLSFMAIPPKK      1   0.019042\n",
       "3     LEDTGSSADESTIDTGTNFFI  RHPHPHLSFMAIPPKK      1   0.019030\n",
       "4     LFDTGSSADESTIDTGTNFFI  RHPHPHLSFMAIPPKK      1   0.019118\n",
       "...                     ...               ...    ...        ...\n",
       "4135  LFDTGSSYVYVTIDTGTNFSI  RHPHPHLSFMAIPPKK      1   0.131464\n",
       "4136  LFDTGSSYVYVTIDTGTNFTI  RHPHPHLSFMAIPPKK      1   0.117451\n",
       "4137  LFDTGSSYVYVTIDTGTNFVI  RHPHPHLSFMAIPPKK      1   0.162600\n",
       "4138  LFDTGSSYVYVTIDTGTNFWI  RHPHPHLSFMAIPPKK      1   0.159666\n",
       "4139  LFDTGSSYVYVTIDTGTNFYI  RHPHPHLSFMAIPPKK      1   0.155944\n",
       "\n",
       "[4140 rows x 4 columns]"
      ]
     },
     "execution_count": 9,
     "metadata": {},
     "output_type": "execute_result"
    }
   ],
   "source": [
    "df_skempi2"
   ]
  },
  {
   "cell_type": "code",
   "execution_count": 10,
   "id": "403912c4-a2ed-4dff-a989-4388e34830ec",
   "metadata": {
    "scrolled": true
   },
   "outputs": [],
   "source": [
    "df_pdb_sorted2 = df_pdbbind2.sort_values(by='predicted_value', ascending=True)\n",
    "df_skmp_sorted2 = df_skempi2.sort_values(by='Predicted', ascending=False)"
   ]
  },
  {
   "cell_type": "code",
   "execution_count": 11,
   "id": "1ba4fefd-4670-4abb-bd8a-ab66c3001629",
   "metadata": {},
   "outputs": [],
   "source": [
    "df_pdb_sorted2.reset_index(inplace=True)\n",
    "df_skmp_sorted2.reset_index(inplace=True)"
   ]
  },
  {
   "cell_type": "code",
   "execution_count": 7,
   "id": "4c9c9cd8-c455-4929-9d06-0fb15ad22cd8",
   "metadata": {},
   "outputs": [],
   "source": [
    "df_pdb_s22 = df_pdb_sorted2[df_pdb_sorted2['predicted_value'] == df_pdb_sorted2['predicted_value'][0]]\n",
    "#df_skmp_s22 = df_skmp_sorted2[df_skmp_sorted2['Predicted'] == df_skmp_sorted2['Predicted'][0]]"
   ]
  },
  {
   "cell_type": "code",
   "execution_count": 14,
   "id": "8bd26286-21fe-4c0f-ac92-1071b0828967",
   "metadata": {},
   "outputs": [
    {
     "data": {
      "image/png": "[encoded data removed]",
      "text/plain": [
       "<Figure size 640x480 with 1 Axes>"
      ]
     },
     "metadata": {},
     "output_type": "display_data"
    }
   ],
   "source": [
    "plt.plot(df_skmp_sorted2.head(10).index, df_skmp_sorted2['Predicted'].head(10), marker='o', linestyle='-', color='b', label='Sales')\n",
    "\n",
    "plt.show()"
   ]
  },
  {
   "cell_type": "code",
   "execution_count": 15,
   "id": "471e4d30-f89c-4de2-93d5-6ecb25f5ab43",
   "metadata": {},
   "outputs": [],
   "source": [
    "df_skmp_s22 = df_skmp_sorted2.head(5)"
   ]
  },
  {
   "cell_type": "code",
   "execution_count": 14,
   "id": "03ff266e-d566-4ef5-be0a-376e4bee1d4c",
   "metadata": {
    "scrolled": true
   },
   "outputs": [
    {
     "data": {
      "text/html": [
       "<div>\n",
       "<style scoped>\n",
       "    .dataframe tbody tr th:only-of-type {\n",
       "        vertical-align: middle;\n",
       "    }\n",
       "\n",
       "    .dataframe tbody tr th {\n",
       "        vertical-align: top;\n",
       "    }\n",
       "\n",
       "    .dataframe thead th {\n",
       "        text-align: right;\n",
       "    }\n",
       "</style>\n",
       "<table border=\"1\" class=\"dataframe\">\n",
       "  <thead>\n",
       "    <tr style=\"text-align: right;\">\n",
       "      <th></th>\n",
       "      <th>index</th>\n",
       "      <th>Target Sequence 1</th>\n",
       "      <th>Target Sequence 2</th>\n",
       "      <th>Label</th>\n",
       "      <th>predicted_value</th>\n",
       "    </tr>\n",
       "  </thead>\n",
       "  <tbody>\n",
       "    <tr>\n",
       "      <th>0</th>\n",
       "      <td>2428</td>\n",
       "      <td>RHPHPHLSFMAIPPKK</td>\n",
       "      <td>LFDTGSSADDSTKDTGTNFFI</td>\n",
       "      <td>1</td>\n",
       "      <td>1.352591</td>\n",
       "    </tr>\n",
       "    <tr>\n",
       "      <th>1</th>\n",
       "      <td>388</td>\n",
       "      <td>RHPHPHLSFMAIPPKK</td>\n",
       "      <td>LFDTGSSVEDTTKDTGTNFFI</td>\n",
       "      <td>1</td>\n",
       "      <td>1.352591</td>\n",
       "    </tr>\n",
       "    <tr>\n",
       "      <th>2</th>\n",
       "      <td>1654</td>\n",
       "      <td>RHPHPHLSFMAIPPKK</td>\n",
       "      <td>LFDTGSSGDEMTRDTGTNFFI</td>\n",
       "      <td>1</td>\n",
       "      <td>1.352591</td>\n",
       "    </tr>\n",
       "    <tr>\n",
       "      <th>3</th>\n",
       "      <td>1174</td>\n",
       "      <td>RHPHPHLSFMAIPPKK</td>\n",
       "      <td>LFDTGSSAEDYTRDTGTNFFI</td>\n",
       "      <td>1</td>\n",
       "      <td>1.352591</td>\n",
       "    </tr>\n",
       "    <tr>\n",
       "      <th>4</th>\n",
       "      <td>1048</td>\n",
       "      <td>RHPHPHLSFMAIPPKK</td>\n",
       "      <td>LFDTGSSAEESTKDTGTNFFI</td>\n",
       "      <td>1</td>\n",
       "      <td>1.352591</td>\n",
       "    </tr>\n",
       "    <tr>\n",
       "      <th>...</th>\n",
       "      <td>...</td>\n",
       "      <td>...</td>\n",
       "      <td>...</td>\n",
       "      <td>...</td>\n",
       "      <td>...</td>\n",
       "    </tr>\n",
       "    <tr>\n",
       "      <th>91</th>\n",
       "      <td>148</td>\n",
       "      <td>RHPHPHLSFMAIPPKK</td>\n",
       "      <td>LFDTGSSGEDTTKDTGTNFFI</td>\n",
       "      <td>1</td>\n",
       "      <td>1.352591</td>\n",
       "    </tr>\n",
       "    <tr>\n",
       "      <th>92</th>\n",
       "      <td>34</td>\n",
       "      <td>RHPHPHLSFMAIPPKK</td>\n",
       "      <td>LFDTGSSADESTRDTGTNFFI</td>\n",
       "      <td>1</td>\n",
       "      <td>1.352591</td>\n",
       "    </tr>\n",
       "    <tr>\n",
       "      <th>93</th>\n",
       "      <td>694</td>\n",
       "      <td>RHPHPHLSFMAIPPKK</td>\n",
       "      <td>LFDTGSSAEETTRDTGTNFFI</td>\n",
       "      <td>1</td>\n",
       "      <td>1.352591</td>\n",
       "    </tr>\n",
       "    <tr>\n",
       "      <th>94</th>\n",
       "      <td>988</td>\n",
       "      <td>RHPHPHLSFMAIPPKK</td>\n",
       "      <td>LFDTGSSGEETTKDTGTNFFI</td>\n",
       "      <td>1</td>\n",
       "      <td>1.352591</td>\n",
       "    </tr>\n",
       "    <tr>\n",
       "      <th>95</th>\n",
       "      <td>2494</td>\n",
       "      <td>RHPHPHLSFMAIPPKK</td>\n",
       "      <td>LFDTGSSADEMTRDTGTNFFI</td>\n",
       "      <td>1</td>\n",
       "      <td>1.352591</td>\n",
       "    </tr>\n",
       "  </tbody>\n",
       "</table>\n",
       "<p>96 rows × 5 columns</p>\n",
       "</div>"
      ],
      "text/plain": [
       "    index Target Sequence 1      Target Sequence 2  Label  predicted_value\n",
       "0    2428  RHPHPHLSFMAIPPKK  LFDTGSSADDSTKDTGTNFFI      1         1.352591\n",
       "1     388  RHPHPHLSFMAIPPKK  LFDTGSSVEDTTKDTGTNFFI      1         1.352591\n",
       "2    1654  RHPHPHLSFMAIPPKK  LFDTGSSGDEMTRDTGTNFFI      1         1.352591\n",
       "3    1174  RHPHPHLSFMAIPPKK  LFDTGSSAEDYTRDTGTNFFI      1         1.352591\n",
       "4    1048  RHPHPHLSFMAIPPKK  LFDTGSSAEESTKDTGTNFFI      1         1.352591\n",
       "..    ...               ...                    ...    ...              ...\n",
       "91    148  RHPHPHLSFMAIPPKK  LFDTGSSGEDTTKDTGTNFFI      1         1.352591\n",
       "92     34  RHPHPHLSFMAIPPKK  LFDTGSSADESTRDTGTNFFI      1         1.352591\n",
       "93    694  RHPHPHLSFMAIPPKK  LFDTGSSAEETTRDTGTNFFI      1         1.352591\n",
       "94    988  RHPHPHLSFMAIPPKK  LFDTGSSGEETTKDTGTNFFI      1         1.352591\n",
       "95   2494  RHPHPHLSFMAIPPKK  LFDTGSSADEMTRDTGTNFFI      1         1.352591\n",
       "\n",
       "[96 rows x 5 columns]"
      ]
     },
     "execution_count": 14,
     "metadata": {},
     "output_type": "execute_result"
    }
   ],
   "source": [
    "df_pdb_s22"
   ]
  },
  {
   "cell_type": "code",
   "execution_count": 113,
   "id": "d17d47ff-c069-4c7e-a73e-f5575ae417a3",
   "metadata": {},
   "outputs": [],
   "source": [
    "df_pdb_s22.to_csv('sorted_pdb_mut2_inter.csv', index=False)"
   ]
  },
  {
   "cell_type": "code",
   "execution_count": 111,
   "id": "b831b434-3587-437a-8693-03e9b0474587",
   "metadata": {},
   "outputs": [
    {
     "name": "stdout",
     "output_type": "stream",
     "text": [
      "[]\n"
     ]
    }
   ],
   "source": [
    "matched = []\n",
    "for i in df_skmp_s22['Mutant']:\n",
    "    if i in df_pdb_s22['Target Sequence 2']:\n",
    "        matched.append(i)\n",
    "print(matched)"
   ]
  },
  {
   "cell_type": "code",
   "execution_count": 114,
   "id": "2b381d3d-ac78-439f-aa59-e105d41f855d",
   "metadata": {},
   "outputs": [],
   "source": [
    "df_pdb_skmp = pd.read_csv('predicted_pdb_skmp_mut2.csv')"
   ]
  },
  {
   "cell_type": "code",
   "execution_count": 115,
   "id": "d0772474-d57e-404d-928c-461a2d668dc2",
   "metadata": {},
   "outputs": [],
   "source": [
    "df_pdb_skmp_sorted = df_pdb_skmp.sort_values(by='Predicted', ascending=False)"
   ]
  },
  {
   "cell_type": "code",
   "execution_count": 119,
   "id": "3a8d9dd3-043b-4843-b578-e7fc8a686d91",
   "metadata": {},
   "outputs": [],
   "source": [
    "df_pdb_skmp_sorted.reset_index(drop=True, inplace=True)"
   ]
  },
  {
   "cell_type": "code",
   "execution_count": 124,
   "id": "9395d781-04ec-4da7-b339-2e4809d48ea7",
   "metadata": {},
   "outputs": [
    {
     "data": {
      "image/png": "[encoded data removed]",
      "text/plain": [
       "<Figure size 640x480 with 1 Axes>"
      ]
     },
     "metadata": {},
     "output_type": "display_data"
    }
   ],
   "source": [
    "plt.plot(df_pdb_skmp_sorted.head(6).index, df_pdb_skmp_sorted['Predicted'].head(6), marker='o', linestyle='-', color='b', label='Sales')\n",
    "\n",
    "plt.show()"
   ]
  },
  {
   "cell_type": "code",
   "execution_count": 125,
   "id": "1055b04c-8666-4e81-94ba-7e9b9b51021b",
   "metadata": {},
   "outputs": [],
   "source": [
    "df_pdb_skmp_s2 = df_pdb_skmp_sorted.head(5)"
   ]
  },
  {
   "cell_type": "code",
   "execution_count": 126,
   "id": "ea421d86-7806-46c6-8d13-87754ef01d25",
   "metadata": {},
   "outputs": [
    {
     "data": {
      "text/html": [
       "<div>\n",
       "<style scoped>\n",
       "    .dataframe tbody tr th:only-of-type {\n",
       "        vertical-align: middle;\n",
       "    }\n",
       "\n",
       "    .dataframe tbody tr th {\n",
       "        vertical-align: top;\n",
       "    }\n",
       "\n",
       "    .dataframe thead th {\n",
       "        text-align: right;\n",
       "    }\n",
       "</style>\n",
       "<table border=\"1\" class=\"dataframe\">\n",
       "  <thead>\n",
       "    <tr style=\"text-align: right;\">\n",
       "      <th></th>\n",
       "      <th>level_0</th>\n",
       "      <th>index</th>\n",
       "      <th>Target Sequence 1</th>\n",
       "      <th>Target Sequence 2</th>\n",
       "      <th>Label</th>\n",
       "      <th>predicted_value</th>\n",
       "      <th>Predicted</th>\n",
       "    </tr>\n",
       "  </thead>\n",
       "  <tbody>\n",
       "    <tr>\n",
       "      <th>0</th>\n",
       "      <td>9</td>\n",
       "      <td>1888</td>\n",
       "      <td>RHPHPHLSFMAIPPKK</td>\n",
       "      <td>LFDTGSSVDDYTKDTGTNFFI</td>\n",
       "      <td>1</td>\n",
       "      <td>1.352591</td>\n",
       "      <td>0.088172</td>\n",
       "    </tr>\n",
       "    <tr>\n",
       "      <th>1</th>\n",
       "      <td>38</td>\n",
       "      <td>508</td>\n",
       "      <td>RHPHPHLSFMAIPPKK</td>\n",
       "      <td>LFDTGSSVDEYTKDTGTNFFI</td>\n",
       "      <td>1</td>\n",
       "      <td>1.352591</td>\n",
       "      <td>0.083001</td>\n",
       "    </tr>\n",
       "    <tr>\n",
       "      <th>2</th>\n",
       "      <td>55</td>\n",
       "      <td>568</td>\n",
       "      <td>RHPHPHLSFMAIPPKK</td>\n",
       "      <td>LFDTGSSVEDYTKDTGTNFFI</td>\n",
       "      <td>1</td>\n",
       "      <td>1.352591</td>\n",
       "      <td>0.075162</td>\n",
       "    </tr>\n",
       "    <tr>\n",
       "      <th>3</th>\n",
       "      <td>74</td>\n",
       "      <td>1108</td>\n",
       "      <td>RHPHPHLSFMAIPPKK</td>\n",
       "      <td>LFDTGSSVEEYTKDTGTNFFI</td>\n",
       "      <td>1</td>\n",
       "      <td>1.352591</td>\n",
       "      <td>0.075015</td>\n",
       "    </tr>\n",
       "    <tr>\n",
       "      <th>4</th>\n",
       "      <td>12</td>\n",
       "      <td>2608</td>\n",
       "      <td>RHPHPHLSFMAIPPKK</td>\n",
       "      <td>LFDTGSSADDYTKDTGTNFFI</td>\n",
       "      <td>1</td>\n",
       "      <td>1.352591</td>\n",
       "      <td>0.062002</td>\n",
       "    </tr>\n",
       "  </tbody>\n",
       "</table>\n",
       "</div>"
      ],
      "text/plain": [
       "   level_0  index Target Sequence 1      Target Sequence 2  Label  \\\n",
       "0        9   1888  RHPHPHLSFMAIPPKK  LFDTGSSVDDYTKDTGTNFFI      1   \n",
       "1       38    508  RHPHPHLSFMAIPPKK  LFDTGSSVDEYTKDTGTNFFI      1   \n",
       "2       55    568  RHPHPHLSFMAIPPKK  LFDTGSSVEDYTKDTGTNFFI      1   \n",
       "3       74   1108  RHPHPHLSFMAIPPKK  LFDTGSSVEEYTKDTGTNFFI      1   \n",
       "4       12   2608  RHPHPHLSFMAIPPKK  LFDTGSSADDYTKDTGTNFFI      1   \n",
       "\n",
       "   predicted_value  Predicted  \n",
       "0         1.352591   0.088172  \n",
       "1         1.352591   0.083001  \n",
       "2         1.352591   0.075162  \n",
       "3         1.352591   0.075015  \n",
       "4         1.352591   0.062002  "
      ]
     },
     "execution_count": 126,
     "metadata": {},
     "output_type": "execute_result"
    }
   ],
   "source": [
    "df_pdb_skmp_s2"
   ]
  },
  {
   "cell_type": "code",
   "execution_count": 16,
   "id": "dc9e45ef-8b30-4767-95f2-e959c4eaf54b",
   "metadata": {},
   "outputs": [
    {
     "data": {
      "text/html": [
       "<div>\n",
       "<style scoped>\n",
       "    .dataframe tbody tr th:only-of-type {\n",
       "        vertical-align: middle;\n",
       "    }\n",
       "\n",
       "    .dataframe tbody tr th {\n",
       "        vertical-align: top;\n",
       "    }\n",
       "\n",
       "    .dataframe thead th {\n",
       "        text-align: right;\n",
       "    }\n",
       "</style>\n",
       "<table border=\"1\" class=\"dataframe\">\n",
       "  <thead>\n",
       "    <tr style=\"text-align: right;\">\n",
       "      <th></th>\n",
       "      <th>index</th>\n",
       "      <th>Mutant</th>\n",
       "      <th>Rec</th>\n",
       "      <th>Label</th>\n",
       "      <th>Predicted</th>\n",
       "    </tr>\n",
       "  </thead>\n",
       "  <tbody>\n",
       "    <tr>\n",
       "      <th>0</th>\n",
       "      <td>3038</td>\n",
       "      <td>LFDTGSSVYYWTWDTGTNFFI</td>\n",
       "      <td>RHPHPHLSFMAIPPKK</td>\n",
       "      <td>1</td>\n",
       "      <td>0.192100</td>\n",
       "    </tr>\n",
       "    <tr>\n",
       "      <th>1</th>\n",
       "      <td>2978</td>\n",
       "      <td>LFDTGSSNYYWTWDTGTNFFI</td>\n",
       "      <td>RHPHPHLSFMAIPPKK</td>\n",
       "      <td>1</td>\n",
       "      <td>0.189985</td>\n",
       "    </tr>\n",
       "    <tr>\n",
       "      <th>2</th>\n",
       "      <td>2918</td>\n",
       "      <td>LFDTGSSYYYWTWDTGTNFFI</td>\n",
       "      <td>RHPHPHLSFMAIPPKK</td>\n",
       "      <td>1</td>\n",
       "      <td>0.189965</td>\n",
       "    </tr>\n",
       "    <tr>\n",
       "      <th>3</th>\n",
       "      <td>3098</td>\n",
       "      <td>LFDTGSSCYYWTWDTGTNFFI</td>\n",
       "      <td>RHPHPHLSFMAIPPKK</td>\n",
       "      <td>1</td>\n",
       "      <td>0.186251</td>\n",
       "    </tr>\n",
       "    <tr>\n",
       "      <th>4</th>\n",
       "      <td>3278</td>\n",
       "      <td>LFDTGSSKYYWTWDTGTNFFI</td>\n",
       "      <td>RHPHPHLSFMAIPPKK</td>\n",
       "      <td>1</td>\n",
       "      <td>0.185432</td>\n",
       "    </tr>\n",
       "  </tbody>\n",
       "</table>\n",
       "</div>"
      ],
      "text/plain": [
       "   index                 Mutant               Rec  Label  Predicted\n",
       "0   3038  LFDTGSSVYYWTWDTGTNFFI  RHPHPHLSFMAIPPKK      1   0.192100\n",
       "1   2978  LFDTGSSNYYWTWDTGTNFFI  RHPHPHLSFMAIPPKK      1   0.189985\n",
       "2   2918  LFDTGSSYYYWTWDTGTNFFI  RHPHPHLSFMAIPPKK      1   0.189965\n",
       "3   3098  LFDTGSSCYYWTWDTGTNFFI  RHPHPHLSFMAIPPKK      1   0.186251\n",
       "4   3278  LFDTGSSKYYWTWDTGTNFFI  RHPHPHLSFMAIPPKK      1   0.185432"
      ]
     },
     "execution_count": 16,
     "metadata": {},
     "output_type": "execute_result"
    }
   ],
   "source": [
    "df_skmp_s22"
   ]
  },
  {
   "cell_type": "code",
   "execution_count": 2,
   "id": "a95bb984-f31e-4364-857f-71bb8052acb1",
   "metadata": {},
   "outputs": [],
   "source": [
    "df = pd.read_csv('pdb_sorted.csv')"
   ]
  },
  {
   "cell_type": "code",
   "execution_count": 2,
   "id": "f95716d7-6cb0-455d-81a7-c3d26edc22f8",
   "metadata": {
    "scrolled": true
   },
   "outputs": [],
   "source": [
    "df2 = pd.read_csv('sorted_pdb_mut2_inter.csv')"
   ]
  },
  {
   "cell_type": "code",
   "execution_count": 6,
   "id": "b93cfc28-831c-4305-bab9-ca550f5b09bd",
   "metadata": {
    "scrolled": true
   },
   "outputs": [
    {
     "data": {
      "text/html": [
       "<div>\n",
       "<style scoped>\n",
       "    .dataframe tbody tr th:only-of-type {\n",
       "        vertical-align: middle;\n",
       "    }\n",
       "\n",
       "    .dataframe tbody tr th {\n",
       "        vertical-align: top;\n",
       "    }\n",
       "\n",
       "    .dataframe thead th {\n",
       "        text-align: right;\n",
       "    }\n",
       "</style>\n",
       "<table border=\"1\" class=\"dataframe\">\n",
       "  <thead>\n",
       "    <tr style=\"text-align: right;\">\n",
       "      <th></th>\n",
       "      <th>level_0</th>\n",
       "      <th>index</th>\n",
       "      <th>Target Sequence 1</th>\n",
       "      <th>Target Sequence 2</th>\n",
       "      <th>Label</th>\n",
       "      <th>predicted_value</th>\n",
       "    </tr>\n",
       "  </thead>\n",
       "  <tbody>\n",
       "    <tr>\n",
       "      <th>0</th>\n",
       "      <td>0</td>\n",
       "      <td>2428</td>\n",
       "      <td>RHPHPHLSFMAIPPKK</td>\n",
       "      <td>LFDTGSSADDSTKDTGTNFFI</td>\n",
       "      <td>1</td>\n",
       "      <td>1.352591</td>\n",
       "    </tr>\n",
       "    <tr>\n",
       "      <th>1</th>\n",
       "      <td>1</td>\n",
       "      <td>388</td>\n",
       "      <td>RHPHPHLSFMAIPPKK</td>\n",
       "      <td>LFDTGSSVEDTTKDTGTNFFI</td>\n",
       "      <td>1</td>\n",
       "      <td>1.352591</td>\n",
       "    </tr>\n",
       "    <tr>\n",
       "      <th>2</th>\n",
       "      <td>2</td>\n",
       "      <td>1654</td>\n",
       "      <td>RHPHPHLSFMAIPPKK</td>\n",
       "      <td>LFDTGSSGDEMTRDTGTNFFI</td>\n",
       "      <td>1</td>\n",
       "      <td>1.352591</td>\n",
       "    </tr>\n",
       "    <tr>\n",
       "      <th>3</th>\n",
       "      <td>3</td>\n",
       "      <td>1174</td>\n",
       "      <td>RHPHPHLSFMAIPPKK</td>\n",
       "      <td>LFDTGSSAEDYTRDTGTNFFI</td>\n",
       "      <td>1</td>\n",
       "      <td>1.352591</td>\n",
       "    </tr>\n",
       "    <tr>\n",
       "      <th>4</th>\n",
       "      <td>4</td>\n",
       "      <td>1048</td>\n",
       "      <td>RHPHPHLSFMAIPPKK</td>\n",
       "      <td>LFDTGSSAEESTKDTGTNFFI</td>\n",
       "      <td>1</td>\n",
       "      <td>1.352591</td>\n",
       "    </tr>\n",
       "    <tr>\n",
       "      <th>...</th>\n",
       "      <td>...</td>\n",
       "      <td>...</td>\n",
       "      <td>...</td>\n",
       "      <td>...</td>\n",
       "      <td>...</td>\n",
       "      <td>...</td>\n",
       "    </tr>\n",
       "    <tr>\n",
       "      <th>91</th>\n",
       "      <td>91</td>\n",
       "      <td>148</td>\n",
       "      <td>RHPHPHLSFMAIPPKK</td>\n",
       "      <td>LFDTGSSGEDTTKDTGTNFFI</td>\n",
       "      <td>1</td>\n",
       "      <td>1.352591</td>\n",
       "    </tr>\n",
       "    <tr>\n",
       "      <th>92</th>\n",
       "      <td>92</td>\n",
       "      <td>34</td>\n",
       "      <td>RHPHPHLSFMAIPPKK</td>\n",
       "      <td>LFDTGSSADESTRDTGTNFFI</td>\n",
       "      <td>1</td>\n",
       "      <td>1.352591</td>\n",
       "    </tr>\n",
       "    <tr>\n",
       "      <th>93</th>\n",
       "      <td>93</td>\n",
       "      <td>694</td>\n",
       "      <td>RHPHPHLSFMAIPPKK</td>\n",
       "      <td>LFDTGSSAEETTRDTGTNFFI</td>\n",
       "      <td>1</td>\n",
       "      <td>1.352591</td>\n",
       "    </tr>\n",
       "    <tr>\n",
       "      <th>94</th>\n",
       "      <td>94</td>\n",
       "      <td>988</td>\n",
       "      <td>RHPHPHLSFMAIPPKK</td>\n",
       "      <td>LFDTGSSGEETTKDTGTNFFI</td>\n",
       "      <td>1</td>\n",
       "      <td>1.352591</td>\n",
       "    </tr>\n",
       "    <tr>\n",
       "      <th>95</th>\n",
       "      <td>95</td>\n",
       "      <td>2494</td>\n",
       "      <td>RHPHPHLSFMAIPPKK</td>\n",
       "      <td>LFDTGSSADEMTRDTGTNFFI</td>\n",
       "      <td>1</td>\n",
       "      <td>1.352591</td>\n",
       "    </tr>\n",
       "  </tbody>\n",
       "</table>\n",
       "<p>96 rows × 6 columns</p>\n",
       "</div>"
      ],
      "text/plain": [
       "    level_0  index Target Sequence 1      Target Sequence 2  Label  \\\n",
       "0         0   2428  RHPHPHLSFMAIPPKK  LFDTGSSADDSTKDTGTNFFI      1   \n",
       "1         1    388  RHPHPHLSFMAIPPKK  LFDTGSSVEDTTKDTGTNFFI      1   \n",
       "2         2   1654  RHPHPHLSFMAIPPKK  LFDTGSSGDEMTRDTGTNFFI      1   \n",
       "3         3   1174  RHPHPHLSFMAIPPKK  LFDTGSSAEDYTRDTGTNFFI      1   \n",
       "4         4   1048  RHPHPHLSFMAIPPKK  LFDTGSSAEESTKDTGTNFFI      1   \n",
       "..      ...    ...               ...                    ...    ...   \n",
       "91       91    148  RHPHPHLSFMAIPPKK  LFDTGSSGEDTTKDTGTNFFI      1   \n",
       "92       92     34  RHPHPHLSFMAIPPKK  LFDTGSSADESTRDTGTNFFI      1   \n",
       "93       93    694  RHPHPHLSFMAIPPKK  LFDTGSSAEETTRDTGTNFFI      1   \n",
       "94       94    988  RHPHPHLSFMAIPPKK  LFDTGSSGEETTKDTGTNFFI      1   \n",
       "95       95   2494  RHPHPHLSFMAIPPKK  LFDTGSSADEMTRDTGTNFFI      1   \n",
       "\n",
       "    predicted_value  \n",
       "0          1.352591  \n",
       "1          1.352591  \n",
       "2          1.352591  \n",
       "3          1.352591  \n",
       "4          1.352591  \n",
       "..              ...  \n",
       "91         1.352591  \n",
       "92         1.352591  \n",
       "93         1.352591  \n",
       "94         1.352591  \n",
       "95         1.352591  \n",
       "\n",
       "[96 rows x 6 columns]"
      ]
     },
     "execution_count": 6,
     "metadata": {},
     "output_type": "execute_result"
    }
   ],
   "source": [
    "df2"
   ]
  },
  {
   "cell_type": "code",
   "execution_count": 5,
   "id": "0b2ffbca-2bb6-43b3-9944-b485a32b141a",
   "metadata": {},
   "outputs": [],
   "source": [
    "\n",
    "def csv_to_fasta(csv_file, column_name, fasta_file):\n",
    "    # Read the CSV file\n",
    "    df = pd.read_csv(csv_file)\n",
    "    \n",
    "    # Check if the column name exists in the dataframe\n",
    "    if column_name not in df.columns:\n",
    "        raise ValueError(f\"Column '{column_name}' does not exist in the CSV file\")\n",
    "    \n",
    "    # Open the output FASTA file\n",
    "    with open(fasta_file, 'w') as fasta:\n",
    "        # Iterate over the peptides and write them to the FASTA file with appropriate headers\n",
    "        for i, peptide in enumerate(df[column_name], start=1):\n",
    "            fasta.write(f'>pep{i}\\n')\n",
    "            fasta.write(f'{peptide}\\n')\n"
   ]
  },
  {
   "cell_type": "code",
   "execution_count": 7,
   "id": "d543cea6-d1fb-4286-b3ac-4ac6424aaa57",
   "metadata": {},
   "outputs": [],
   "source": [
    "\n",
    "csv_file = 'sorted_pdb_mut2_inter.csv'  # Replace with your input CSV file path\n",
    "column_name = 'Target Sequence 2'  # Replace with the name of the column containing peptides\n",
    "fasta_file = 'peptides.fasta'  # Replace with your desired output FASTA file path\n",
    "\n",
    "csv_to_fasta(csv_file, column_name, fasta_file)"
   ]
  },
  {
   "cell_type": "code",
   "execution_count": null,
   "id": "31677967-32f6-4ab1-ae91-41f0d98ce7fa",
   "metadata": {},
   "outputs": [],
   "source": []
  }
 ],
 "metadata": {
  "kernelspec": {
   "display_name": "Python 3 (ipykernel)",
   "language": "python",
   "name": "python3"
  },
  "language_info": {
   "codemirror_mode": {
    "name": "ipython",
    "version": 3
   },
   "file_extension": ".py",
   "mimetype": "text/x-python",
   "name": "python",
   "nbconvert_exporter": "python",
   "pygments_lexer": "ipython3",
   "version": "3.12.4"
  }
 },
 "nbformat": 4,
 "nbformat_minor": 5
}
